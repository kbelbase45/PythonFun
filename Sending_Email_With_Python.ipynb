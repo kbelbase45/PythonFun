{
 "cells": [
  {
   "cell_type": "markdown",
   "id": "293169f5",
   "metadata": {},
   "source": [
    "# <center><font size='+4'>Send an email with Python script</font>"
   ]
  },
  {
   "cell_type": "markdown",
   "id": "1b8f52d1",
   "metadata": {},
   "source": [
    "\n",
    "<dl size='4'> In this project I am writing a python script to send an email. To complete this task I need some built-in modules that may come with Linux distributions. If no modules are available, simply type \"pip install name_module\" into the terminal to install it.<br><br>\n",
    "<dd><b>module os</b> is used for navigating in the operating system.</dd>\n",
    "<dd><b>module ssl</b>, stands for Secure Socket Layer and, in short, is responsible for keeping an Internet connection secure and protecting sensitive data.</dd>\n",
    "<dd><b>ErrorMsg</b> is written to print out some reason for an error.</dd>\n",
    "</dl>    "
   ]
  },
  {
   "cell_type": "code",
   "execution_count": 1,
   "id": "552293a4",
   "metadata": {},
   "outputs": [],
   "source": [
    "import os\n",
    "import smtplib,ssl\n",
    "from ErrorMsg import error_msg"
   ]
  },
  {
   "cell_type": "markdown",
   "id": "0f76e5ab",
   "metadata": {},
   "source": [
    "<h3>Action of the following function</h3>\n",
    "<p style=\"color: #0000FF\"> In the following function, all files of the current working directory are first saved in text_file list. In the second step, a file name is separated into a name and an extension, and the file with the extension \".txt\" is considered as the file whose content is to be emailed. If no file with the above extension is available, the program will ask us to write to the terminal (if code is executed in the terminal) or to the window.\n",
    "</p>"
   ]
  },
  {
   "cell_type": "code",
   "execution_count": 17,
   "id": "6acc4537",
   "metadata": {},
   "outputs": [],
   "source": [
    "def search_text_to_email():\n",
    "    text_file = os.listdir()    \n",
    "    text_file = [item for item in text_file if os.path.splitext(item)[1] == '.txt']\n",
    "    if len(text_file) !=0:\n",
    "        with open(text_file[0],'r') as f:\n",
    "            emailContent = f.read()\n",
    "    else:\n",
    "        print('Text file for sending email is not available. Please write a message here \\n ')\n",
    "        emailContent = input()\n",
    "    return emailContent"
   ]
  },
  {
   "cell_type": "markdown",
   "id": "1f3b869c",
   "metadata": {},
   "source": [
    "<p style=\"font-size:20px\"> \n",
    "In the following function <br><br>\n",
    "<dd>1) The port number and server name as 'smtp.gmail.com' are set up. </dd>\n",
    "<dd>2) For data protection reasons, an e-mail with sender, password and the recipient e-mail are defined as environment variables. The environment variable means that its value is specified in the .bashrc file.</dd>\n",
    "<dd>3) The server object is created with the server name as smtp_server, port and SSL (Secure Socket Layer) object</dd>\n",
    "<dd>4) Credentials are updated in the server object as server.login.</dd>\n",
    "<dd>5) The message is sent with the recipient email and the email body. Then the server is terminated.</dd>\n",
    "<dd>6) If an error occurs, error_msg function prints what the possible error might be. To check what error_msg can do, run the code with wrong email address or wrong password.</dd>\n",
    "<dd>7) If \"with smtplib.SMTP('localhost',8000) as server:\" is used, enter '#python3 -m smtpd -c DebuggingServer -n localhost:8000' in the field that contains the body of the email is shown. </dd>    \n",
    "</p>"
   ]
  },
  {
   "cell_type": "code",
   "execution_count": 28,
   "id": "4cd08012",
   "metadata": {},
   "outputs": [
    {
     "name": "stdout",
     "output_type": "stream",
     "text": [
      "Email successfully sent\n"
     ]
    }
   ],
   "source": [
    "def send_email(emailContent):\n",
    "    port            = 465\n",
    "    smtp_server     = 'smtp.gmail.com'\n",
    "    email_of_sender = os.environ.get('USER_EMAIL') #write your email\n",
    "    #Write an app password below. If a password associated with an \n",
    "    #email is provided, the Google server will throw an error.\n",
    "    login_password  = os.environ.get('LOGIN_PASS') \n",
    "    receiver_email  = os.environ.get('RECEIVER')\n",
    "    \n",
    "    context = ssl.create_default_context()\n",
    "    with smtplib.SMTP_SSL(smtp_server,port,context=context) as server:\n",
    "#     with smtplib.SMTP('localhost',8000) as server:\n",
    "        try:\n",
    "            server.login(email_of_sender,login_password)\n",
    "            res = server.sendmail(email_of_sender,receiver_email,emailContent)\n",
    "            server.quit()\n",
    "            print('Email successfully sent')\n",
    "        except smtplib.SMTPAuthenticationError as f:\n",
    "            error_msg(f)\n",
    "\n",
    "if __name__=='__main__':\n",
    "    emailContent = search_text_to_email()\n",
    "    send_email(emailContent)"
   ]
  },
  {
   "cell_type": "code",
   "execution_count": null,
   "id": "e93a70f2",
   "metadata": {},
   "outputs": [],
   "source": []
  }
 ],
 "metadata": {
  "kernelspec": {
   "display_name": "Python 3",
   "language": "python",
   "name": "python3"
  },
  "language_info": {
   "codemirror_mode": {
    "name": "ipython",
    "version": 3
   },
   "file_extension": ".py",
   "mimetype": "text/x-python",
   "name": "python",
   "nbconvert_exporter": "python",
   "pygments_lexer": "ipython3",
   "version": "3.8.8"
  }
 },
 "nbformat": 4,
 "nbformat_minor": 5
}

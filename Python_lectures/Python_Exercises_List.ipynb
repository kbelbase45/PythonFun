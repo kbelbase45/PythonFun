{
 "cells": [
  {
   "cell_type": "code",
   "execution_count": null,
   "id": "9f95197c",
   "metadata": {},
   "outputs": [],
   "source": []
  },
  {
   "cell_type": "markdown",
   "id": "5f562848",
   "metadata": {},
   "source": [
    "<font size='3'> \n",
    "<b font style='color:red'>Q1: Create a list by picking an odd-index items from the first list and even index items from the second.</b>\n",
    "</font>\n",
    "\n",
    "#### Explanation:\n",
    "<p>\n",
    "    Let's say I have two lists L1 and L2. To spice up the task, L1 contains 20 random numbers from 0 to 20 and in order for the result to be reproducible, a random list of random numbers is specified by specifying the random seed. The list L2 contains a regular number from 0 to 20. I use list comprehension to create new lists L1_new and L2_new containing the element in the odd position of L1 and the even position of L2. To select an element in the odd position, I extract the position index of each element and divide it by 2. If the remainder is non-zero, the position index is odd as in L1_new, and if zero, then the position index is even as in L2_new.\n",
    "</p>    "
   ]
  },
  {
   "cell_type": "code",
   "execution_count": 40,
   "id": "11697ecd",
   "metadata": {},
   "outputs": [
    {
     "data": {
      "text/plain": [
       "[18, 4, 14, 19, 13, 0, 2, 15, 6, 8, 0, 2, 4, 6, 8, 10, 12, 14, 16, 18]"
      ]
     },
     "execution_count": 40,
     "metadata": {},
     "output_type": "execute_result"
    }
   ],
   "source": [
    "#Let suppose we have two lists L1 and L2\n",
    "import random\n",
    "\n",
    "#For result to be reproducible\n",
    "random.seed(3)\n",
    "\n",
    "L1 = list(item for item in random.sample(range(0,20),20) )\n",
    "L2 = list(item for item in range(20) )\n",
    "\n",
    "L1_new = [item for item in L1 if L1.index(item)%2 != 0]\n",
    "L2_new = [item for item in L2 if L2.index(item)%2 == 0]\n",
    "L3 = L1_new+L2_new\n",
    "\n",
    "L3"
   ]
  },
  {
   "cell_type": "markdown",
   "id": "17c6ea8d",
   "metadata": {},
   "source": [
    "<font style='color:red'>\n",
    "<b>\n",
    "    <font size='3'>\n",
    "Q2 Remove and add item in a list\n",
    "    </font>    \n",
    "</b>    \n",
    "</font>    "
   ]
  },
  {
   "cell_type": "code",
   "execution_count": 64,
   "id": "92f0e202",
   "metadata": {},
   "outputs": [
    {
     "name": "stdout",
     "output_type": "stream",
     "text": [
      "['__add__', '__class__', '__contains__', '__delattr__', '__delitem__', '__dir__', '__doc__', '__eq__', '__format__', '__ge__', '__getattribute__', '__getitem__', '__gt__', '__hash__', '__iadd__', '__imul__', '__init__', '__init_subclass__', '__iter__', '__le__', '__len__', '__lt__', '__mul__', '__ne__', '__new__', '__reduce__', '__reduce_ex__', '__repr__', '__reversed__', '__rmul__', '__setattr__', '__setitem__', '__sizeof__', '__str__', '__subclasshook__', 'append', 'clear', 'copy', 'count', 'extend', 'index', 'insert', 'pop', 'remove', 'reverse', 'sort'],"
     ]
    }
   ],
   "source": [
    "#Let first see what are the method available for list\n",
    "print(dir(L3),end=',')"
   ]
  },
  {
   "cell_type": "markdown",
   "id": "c08a4c62",
   "metadata": {},
   "source": [
    "<font size='3'>\n",
    "The items with __ are the private. The elements start with lowercase letters and don't have __ are the available methods. To solve the above question, I am particularly interested in the \"<b>remove</b>\" method. If I type help(L3.remove) this gives more information about the method. But in short, it takes a single argument and removes it from the list, and if the item isn't in the list, ValueError is thrown.<br>\n",
    "\n",
    "To add a new element I use <b>insert</b>. Unlike remove, the insert method takes two arguments. The first specifies the position in the list where to put the second argument.\n",
    "</font>    "
   ]
  },
  {
   "cell_type": "code",
   "execution_count": 80,
   "id": "33b66e28",
   "metadata": {},
   "outputs": [
    {
     "data": {
      "text/plain": [
       "[15, 0, 1, 2, 3, 4, 5, 6, 7, 8, 9, 10, 11, 12, 13, 14, 16, 17, 18, 19]"
      ]
     },
     "execution_count": 80,
     "metadata": {},
     "output_type": "execute_result"
    }
   ],
   "source": [
    "L1 = list(item for item in range(0,20))\n",
    "L1.remove(15)\n",
    "L1.insert(0,15)\n",
    "L1"
   ]
  },
  {
   "cell_type": "markdown",
   "id": "1c19e2fe",
   "metadata": {},
   "source": [
    "<font size='3'>\n",
    "There is no built-in method to remove multiple items from a list. To do this, I need to pass each element through the loop and remove it. But to avoid an explicit 'for loop', a list comprehension can be used.\n",
    "</font>        "
   ]
  },
  {
   "cell_type": "code",
   "execution_count": 93,
   "id": "b531a27d",
   "metadata": {},
   "outputs": [
    {
     "data": {
      "text/plain": [
       "[1, 3, 5, 7, 9, 11, 13, 15, 17, 19]"
      ]
     },
     "execution_count": 93,
     "metadata": {},
     "output_type": "execute_result"
    }
   ],
   "source": [
    "L1 = list(item for item in range(0,20))\n",
    "\n",
    "#Creates a new list that contains only odd elements of list L1\n",
    "L1_new = [item for item in L1 if item%2 !=0]\n",
    "L1_new"
   ]
  },
  {
   "cell_type": "markdown",
   "id": "3bd5154b",
   "metadata": {},
   "source": [
    "<font size='3'>\n",
    "    <font style='color:red'>\n",
    "<b>Q3 Slice list into 3 equal chunks and reverse each chunck</b>\n",
    "    </font> <br>\n",
    "    An important point to remember in the following code is that the reverse method gives the location instead of the actual value. This needs to be converted to a list, which is done using the list function. In the following I store the list as the value of the dictionary, but in the next code cell this is done with list operations only.\n",
    "</font>    "
   ]
  },
  {
   "cell_type": "code",
   "execution_count": 146,
   "id": "cf9c40c4",
   "metadata": {},
   "outputs": [
    {
     "name": "stdout",
     "output_type": "stream",
     "text": [
      "Original List is\n",
      "[0, 1, 2, 3, 4, 5, 6, 7, 8, 9, 10, 11, 12, 13, 14, 15, 16, 17, 18, 19, 20]\n",
      "   \n",
      "Total number of elements are not divisable by 3\n",
      "   \n",
      "After Slice 1\n",
      "[0, 1, 2, 3, 4, 5, 6]\n",
      "   \n",
      "In the reversed order\n",
      "[6, 5, 4, 3, 2, 1, 0]\n",
      "  \n",
      "After Slice 2\n",
      "[7, 8, 9, 10, 11, 12, 13]\n",
      "   \n",
      "In the reversed order\n",
      "[13, 12, 11, 10, 9, 8, 7]\n",
      "  \n",
      "After Slice 3\n",
      "[14, 15, 16, 17, 18, 19, 20]\n",
      "   \n",
      "In the reversed order\n",
      "[20, 19, 18, 17, 16, 15, 14]\n",
      "  \n"
     ]
    }
   ],
   "source": [
    "L1 = list(item for item in range(0,21))\n",
    "\n",
    "print('Original List is')\n",
    "print(L1)\n",
    "print('   ')\n",
    "\n",
    "#First check if length is divisable by 3 or not\n",
    "if len(L1)%3 !=0:\n",
    "    print('Total number of elements are not divisable by 3')\n",
    "    print('   ')\n",
    "    index = len(L1)//3\n",
    "else:\n",
    "    print('Total number of elements are not divisable by 3')\n",
    "    print('   ')\n",
    "    index = len(L1)//3\n",
    "\n",
    "new_list     = {}\n",
    "reverse_list = {}\n",
    "for i in range(3):        \n",
    "    new_list['list{0}'.format(i)]        = L1[index*i:index*(i+1)]\n",
    "    reverse_list['reverse{0}'.format(i)] = list(reversed(L1[index*i:index*(i+1)]))\n",
    "\n",
    "#OR\n",
    "ii = 0\n",
    "for key,value in new_list.items():\n",
    "    ii += 1\n",
    "    print(f'After Slice {ii}')\n",
    "    print(value)\n",
    "    print('   ')\n",
    "    print('In the reversed order')\n",
    "    print(list(reversed(value)))\n",
    "    print('  ')\n"
   ]
  },
  {
   "cell_type": "code",
   "execution_count": 152,
   "id": "a4bad747",
   "metadata": {},
   "outputs": [
    {
     "name": "stdout",
     "output_type": "stream",
     "text": [
      "Original List is\n",
      "[0, 1, 2, 3, 4, 5, 6, 7, 8, 9, 10, 11, 12, 13, 14, 15, 16, 17, 18, 19, 20]\n",
      "   \n",
      "Total number of elements are divisable by 3\n",
      "   \n",
      "Chunk 0 [0, 1, 2, 3, 4, 5, 6]\n",
      "  \n",
      "In the reversed order 0 [6, 5, 4, 3, 2, 1, 0]\n",
      " \n",
      "Chunk 1 [7, 8, 9, 10, 11, 12, 13]\n",
      "  \n",
      "In the reversed order 1 [13, 12, 11, 10, 9, 8, 7]\n",
      " \n",
      "Chunk 2 [14, 15, 16, 17, 18, 19, 20]\n",
      "  \n",
      "In the reversed order 2 [20, 19, 18, 17, 16, 15, 14]\n",
      " \n"
     ]
    }
   ],
   "source": [
    "L1 = list(item for item in range(0,21))\n",
    "\n",
    "print('Original List is')\n",
    "print(L1)\n",
    "print('   ')\n",
    "\n",
    "#First check if length is divisable by 3 or not\n",
    "if len(L1)%3 !=0:\n",
    "    print('Total number of elements are not divisable by 3')\n",
    "    print('   ')\n",
    "    slice_index = len(L1)//3\n",
    "else:\n",
    "    print('Total number of elements are divisable by 3')\n",
    "    print('   ')\n",
    "    slice_index = len(L1)//3\n",
    "    \n",
    "start = 0\n",
    "end   = slice_index\n",
    "\n",
    "for i in range(3):\n",
    "    #Set the index to slice\n",
    "    slice_index = slice(start,end)\n",
    "    sliced_list = L1[slice_index]\n",
    "    \n",
    "    print(f'Chunk {i}',sliced_list)\n",
    "    print('  ')\n",
    "    \n",
    "    print(f'In the reversed order {i}',list(reversed(sliced_list)))\n",
    "    print(' ')\n",
    "    \n",
    "    start = end\n",
    "    end  += end\n",
    "    \n",
    "    "
   ]
  },
  {
   "cell_type": "markdown",
   "id": "8596a992",
   "metadata": {},
   "source": [
    "<font size='3'>\n",
    "    <font style='color:red'>\n",
    "<b>Q3 Count the occurance of each element from a list</b>\n",
    "    </font> <br>\n",
    "    <p>\n",
    "        To solve this question, I use two strategies. First I look for unique elements in the given list and later use the built-in counting method to find out how many times each individual element is repeated. This concept will become clear as we move on.\n",
    "    </p>    \n",
    "</font>    "
   ]
  },
  {
   "cell_type": "code",
   "execution_count": 168,
   "id": "5ad60415",
   "metadata": {},
   "outputs": [
    {
     "name": "stdout",
     "output_type": "stream",
     "text": [
      "List is    [2, 4, 5, 4, 6, 5, 7, 6, 8, 9, 2, 4, 7, 8, 6]\n",
      "   \n",
      "The key of the dictionary is an element of the list and the value is its repetition\n"
     ]
    },
    {
     "data": {
      "text/plain": [
       "{2: 2, 4: 3, 5: 2, 6: 3, 7: 2, 8: 2, 9: 1}"
      ]
     },
     "execution_count": 168,
     "metadata": {},
     "output_type": "execute_result"
    }
   ],
   "source": [
    "#Let suppose I have the followign list\n",
    "L1 = [2,4,5,4,6,5,7,6,8,9,2,4,7,8,6]\n",
    "\n",
    "#Loop over each item and store unique item in the new list\n",
    "unique_list = []\n",
    "for item in L1:\n",
    "    if item not in unique_list:\n",
    "        unique_list.append(item)\n",
    "\n",
    "#I run the loop over these unique elements\n",
    "unique_dic = {}\n",
    "for item in unique_list:\n",
    "    unique_dic[item] = L1.count(item)\n",
    "\n",
    "print('List is   ',L1) \n",
    "print('   ')\n",
    "print('The key of the dictionary is an element of the list and the value is its repetition')    \n",
    "unique_dic    "
   ]
  },
  {
   "cell_type": "markdown",
   "id": "74420175",
   "metadata": {},
   "source": [
    "<b>\n",
    "    <font size='3'>\n",
    "        By using the built-in function set, I can avoid the burden of searching for unique items from the list. This makes the code more compact and easier to understand.\n",
    "    </font>    \n",
    "</b>    "
   ]
  },
  {
   "cell_type": "code",
   "execution_count": 172,
   "id": "3b8094af",
   "metadata": {},
   "outputs": [
    {
     "name": "stdout",
     "output_type": "stream",
     "text": [
      "List is    [2, 4, 5, 4, 6, 5, 7, 6, 8, 9, 2, 4, 7, 8, 6]\n",
      "   \n",
      "The key of the dictionary is an element of the list and the value is its repetition\n"
     ]
    },
    {
     "data": {
      "text/plain": [
       "{2: 2, 4: 3, 5: 2, 6: 3, 7: 2, 8: 2, 9: 1}"
      ]
     },
     "execution_count": 172,
     "metadata": {},
     "output_type": "execute_result"
    }
   ],
   "source": [
    "new_set      = set(L1)\n",
    "unique_items = list(new_set)\n",
    "\n",
    "\n",
    "unique_dic = {}\n",
    "for item in unique_items:\n",
    "    unique_dic[item] = L1.count(item)\n",
    "\n",
    "print('List is   ',L1) \n",
    "print('   ')\n",
    "print('The key of the dictionary is an element of the list and the value is its repetition')    \n",
    "unique_dic    "
   ]
  }
 ],
 "metadata": {
  "kernelspec": {
   "display_name": "Python 3",
   "language": "python",
   "name": "python3"
  },
  "language_info": {
   "codemirror_mode": {
    "name": "ipython",
    "version": 3
   },
   "file_extension": ".py",
   "mimetype": "text/x-python",
   "name": "python",
   "nbconvert_exporter": "python",
   "pygments_lexer": "ipython3",
   "version": "3.8.8"
  }
 },
 "nbformat": 4,
 "nbformat_minor": 5
}
